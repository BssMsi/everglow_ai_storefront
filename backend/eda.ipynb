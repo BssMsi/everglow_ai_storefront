{
 "cells": [
  {
   "cell_type": "code",
   "execution_count": 2,
   "metadata": {},
   "outputs": [],
   "source": [
    "import pandas as pd"
   ]
  },
  {
   "cell_type": "code",
   "execution_count": 3,
   "metadata": {},
   "outputs": [
    {
     "data": {
      "text/html": [
       "<div>\n",
       "<style scoped>\n",
       "    .dataframe tbody tr th:only-of-type {\n",
       "        vertical-align: middle;\n",
       "    }\n",
       "\n",
       "    .dataframe tbody tr th {\n",
       "        vertical-align: top;\n",
       "    }\n",
       "\n",
       "    .dataframe thead th {\n",
       "        text-align: right;\n",
       "    }\n",
       "</style>\n",
       "<table border=\"1\" class=\"dataframe\">\n",
       "  <thead>\n",
       "    <tr style=\"text-align: right;\">\n",
       "      <th></th>\n",
       "      <th>product_id</th>\n",
       "      <th>name</th>\n",
       "      <th>category</th>\n",
       "      <th>description</th>\n",
       "      <th>top_ingredients</th>\n",
       "      <th>tags</th>\n",
       "      <th>price (USD)</th>\n",
       "      <th>margin (%)</th>\n",
       "    </tr>\n",
       "  </thead>\n",
       "  <tbody>\n",
       "    <tr>\n",
       "      <th>0</th>\n",
       "      <td>SRM001</td>\n",
       "      <td>Radiant Renewal Serum</td>\n",
       "      <td>Serum</td>\n",
       "      <td>Brightens dull skin and smooths fine lines for...</td>\n",
       "      <td>Ascorbic Acid (Vitamin C); Hyaluronic Acid; Ni...</td>\n",
       "      <td>antiaging|brightening|hydration</td>\n",
       "      <td>72</td>\n",
       "      <td>0.48</td>\n",
       "    </tr>\n",
       "    <tr>\n",
       "      <th>1</th>\n",
       "      <td>SRM002</td>\n",
       "      <td>Dewdrop Hydration Elixir</td>\n",
       "      <td>Serum</td>\n",
       "      <td>Water-weight serum that drenches skin in long-...</td>\n",
       "      <td>Hyaluronic Acid; Panthenol; Vitamin F (Linolei...</td>\n",
       "      <td>hydration|barrier-repair|dry-skin</td>\n",
       "      <td>58</td>\n",
       "      <td>0.42</td>\n",
       "    </tr>\n",
       "    <tr>\n",
       "      <th>2</th>\n",
       "      <td>SRM003</td>\n",
       "      <td>Clear Slate BHA Serum</td>\n",
       "      <td>Serum</td>\n",
       "      <td>Clarifies congested pores and keeps oil in che...</td>\n",
       "      <td>Salicylic Acid; Zinc PCA; Green Tea Extract</td>\n",
       "      <td>acne-prone|oily-control|pore-care</td>\n",
       "      <td>46</td>\n",
       "      <td>0.40</td>\n",
       "    </tr>\n",
       "    <tr>\n",
       "      <th>3</th>\n",
       "      <td>SRM004</td>\n",
       "      <td>Midnight Peptide Firming Serum</td>\n",
       "      <td>Serum</td>\n",
       "      <td>Overnight peptide complex visibly firms and no...</td>\n",
       "      <td>Palmitoyl Tripeptide-5; Soluble Collagen; Vita...</td>\n",
       "      <td>antiaging|firming|dry-skin</td>\n",
       "      <td>85</td>\n",
       "      <td>0.52</td>\n",
       "    </tr>\n",
       "    <tr>\n",
       "      <th>4</th>\n",
       "      <td>SRM005</td>\n",
       "      <td>Calm &amp; Soothe Sensitive Serum</td>\n",
       "      <td>Serum</td>\n",
       "      <td>Lightweight gel serum that calms redness and s...</td>\n",
       "      <td>Centella Asiatica; Allantoin; Beta-Glucan</td>\n",
       "      <td>sensitive|redness-relief|hydration</td>\n",
       "      <td>49</td>\n",
       "      <td>0.38</td>\n",
       "    </tr>\n",
       "  </tbody>\n",
       "</table>\n",
       "</div>"
      ],
      "text/plain": [
       "  product_id                            name category  \\\n",
       "0     SRM001           Radiant Renewal Serum    Serum   \n",
       "1     SRM002        Dewdrop Hydration Elixir    Serum   \n",
       "2     SRM003           Clear Slate BHA Serum    Serum   \n",
       "3     SRM004  Midnight Peptide Firming Serum    Serum   \n",
       "4     SRM005   Calm & Soothe Sensitive Serum    Serum   \n",
       "\n",
       "                                         description  \\\n",
       "0  Brightens dull skin and smooths fine lines for...   \n",
       "1  Water-weight serum that drenches skin in long-...   \n",
       "2  Clarifies congested pores and keeps oil in che...   \n",
       "3  Overnight peptide complex visibly firms and no...   \n",
       "4  Lightweight gel serum that calms redness and s...   \n",
       "\n",
       "                                     top_ingredients  \\\n",
       "0  Ascorbic Acid (Vitamin C); Hyaluronic Acid; Ni...   \n",
       "1  Hyaluronic Acid; Panthenol; Vitamin F (Linolei...   \n",
       "2        Salicylic Acid; Zinc PCA; Green Tea Extract   \n",
       "3  Palmitoyl Tripeptide-5; Soluble Collagen; Vita...   \n",
       "4          Centella Asiatica; Allantoin; Beta-Glucan   \n",
       "\n",
       "                                 tags  price (USD)  margin (%)  \n",
       "0     antiaging|brightening|hydration           72        0.48  \n",
       "1   hydration|barrier-repair|dry-skin           58        0.42  \n",
       "2   acne-prone|oily-control|pore-care           46        0.40  \n",
       "3          antiaging|firming|dry-skin           85        0.52  \n",
       "4  sensitive|redness-relief|hydration           49        0.38  "
      ]
     },
     "execution_count": 3,
     "metadata": {},
     "output_type": "execute_result"
    }
   ],
   "source": [
    "df = pd.read_excel(\"skincare catalog.xlsx\")\n",
    "df.head()"
   ]
  },
  {
   "cell_type": "code",
   "execution_count": 17,
   "metadata": {},
   "outputs": [],
   "source": [
    "df['top_ingredients'].str.split('; ').explode().value_counts().reset_index().sort_values(['top_ingredients']).to_csv('ingredients.csv', header=True, index=True)"
   ]
  },
  {
   "cell_type": "code",
   "execution_count": 4,
   "metadata": {},
   "outputs": [
    {
     "data": {
      "text/plain": [
       "array(['Ascorbic Acid (Vitamin C)', 'Hyaluronic Acid', 'Niacinamide',\n",
       "       'Panthenol', 'Vitamin F (Linoleic Acid)', 'Salicylic Acid',\n",
       "       'Zinc PCA', 'Green Tea Extract', 'Palmitoyl Tripeptide-5',\n",
       "       'Soluble Collagen', 'Vitamin E', 'Centella Asiatica', 'Allantoin',\n",
       "       'Beta-Glucan', 'Tranexamic Acid', 'Licorice-Root Extract',\n",
       "       'Tremella Mushroom Extract', 'Willow-Bark', 'Ceramides NP+AP+EOP',\n",
       "       'Vitamin F', 'Squalane', 'Retinaldehyde', 'Bakuchiol',\n",
       "       'Ferulic Acid', 'Damask Rose Water', 'Glycerin', 'Aloe Vera Juice',\n",
       "       'Salicylic Acid 2%', 'Witch Hazel', 'Glycolic Acid 5%',\n",
       "       'Lactic Acid', 'Rooibos Extract', 'Cucumber Water',\n",
       "       'Gluconolactone (PHA)', 'Zinc Oxide (SPF 30)', 'Retinol',\n",
       "       'Peptides', 'Vitamin C', 'Caffeine', 'Shea Butter', 'Cocoa Butter',\n",
       "       'Palmitoyl Tripeptide-1', 'Cholesterol', 'Titanium Dioxide',\n",
       "       'Zinc Oxide (SPF 50)', 'Aloe Vera', 'Arctic Oat Lipids',\n",
       "       'Alpha-Arbutin', 'Licorice Root', 'Helichrysum Extract',\n",
       "       'Ceramides', 'Blue Agave Ferment', 'Kaolin Clay', 'Charcoal',\n",
       "       'Glycolic Acid 10%', 'Papaya Enzyme', 'Orange Essential Oil',\n",
       "       'Colloidal Oat', 'Chamomile Extract', 'Bamboo Powder',\n",
       "       'Rice Bran Oil', 'Argan Oil', 'Hydrolyzed Keratin',\n",
       "       'Pyrithione Zinc 1%', 'Tea Tree Oil', 'Quinoa Protein',\n",
       "       'UV Filter', 'Hibiscus Extract', 'Cetearyl Alcohol', 'Rice Water',\n",
       "       'Sunflower Seed Oil', 'Hydrolyzed Silk Protein', 'Avocado Oil'],\n",
       "      dtype=object)"
      ]
     },
     "execution_count": 4,
     "metadata": {},
     "output_type": "execute_result"
    }
   ],
   "source": [
    "df['top_ingredients'].str.split('; ').explode().unique()"
   ]
  },
  {
   "cell_type": "code",
   "execution_count": 14,
   "metadata": {},
   "outputs": [
    {
     "data": {
      "text/plain": [
       "{'SRM001': 'Radiant Renewal Serum',\n",
       " 'SRM002': 'Dewdrop Hydration Elixir',\n",
       " 'SRM003': 'Clear Slate BHA Serum',\n",
       " 'SRM004': 'Midnight Peptide Firming Serum',\n",
       " 'SRM005': 'Calm & Soothe Sensitive Serum',\n",
       " 'SRM006': 'Flash Fade Spot Corrector',\n",
       " 'SRM007': 'Velvet Matte Pore Serum',\n",
       " 'SRM008': 'AquaShield Barrier Booster',\n",
       " 'SRM009': 'Sunrise Retinal Serum',\n",
       " 'SRM010': 'Glow Guard Antioxidant Serum',\n",
       " 'TNR001': 'Rosewater Rescue Hydrating Toner',\n",
       " 'TNR002': 'ClearWave 2% BHA Toner',\n",
       " 'TNR003': 'GlowPrep 5% Glycolic Toner',\n",
       " 'TNR004': 'CalmCucumber pH Mist',\n",
       " 'TNR005': 'SmoothStart PHA Tonic',\n",
       " 'CRM001': 'HydraCloud Daily Gel-Cream SPF 30',\n",
       " 'CRM002': 'Velvet Night Repair Cream',\n",
       " 'CRM003': 'Radiance Spot-Bright Eye Cream',\n",
       " 'CRM004': 'Deep Nourish Body Butter',\n",
       " 'CRM005': 'SmoothLift Wrinkle Corrector',\n",
       " 'CRM006': 'BarrierFix Ceramide Cream',\n",
       " 'CRM007': 'ClearMatte Oil-Control Gel Moisturizer',\n",
       " 'CRM008': 'SunShield Mineral Moisturizer SPF 50',\n",
       " 'CRM009': 'Arctic Hand Rescue Cream',\n",
       " 'CRM010': 'Glow Fade Dark-Spot Moisturizer',\n",
       " 'SNS001': 'SunVeil Ultra-Light Fluid SPF 50',\n",
       " 'MSK001': 'HydraDream Overnight Mask',\n",
       " 'MSK002': 'Clarify Clay Rinse-Off Mask',\n",
       " 'MSK003': 'Flash Glow AHA Peel Mask',\n",
       " 'BW001': 'Revive Citrus Shower Gel',\n",
       " 'BW002': 'Soothe & Silk Sensitive Wash',\n",
       " 'BW003': 'Polish Glow Exfoliating Body Wash',\n",
       " 'HC001': 'SleekSilk Anti-Frizz Shampoo',\n",
       " 'HC002': 'ScalpBalance Anti-Dandruff Shampoo',\n",
       " 'HC003': 'ColorLock Vibrant-Hue Shampoo',\n",
       " 'HC004': 'SleekSilk Anti-Frizz Conditioner',\n",
       " 'HC005': 'FeatherLight Oil-Balance Conditioner',\n",
       " 'HC006': 'ColorLock Vibrant-Hue Conditioner',\n",
       " 'HC007': 'RepairRitual Deep Mask (Silicone-Free)'}"
      ]
     },
     "execution_count": 14,
     "metadata": {},
     "output_type": "execute_result"
    }
   ],
   "source": [
    "df.set_index('product_id')['name'].to_dict()"
   ]
  },
  {
   "cell_type": "code",
   "execution_count": null,
   "metadata": {},
   "outputs": [],
   "source": []
  },
  {
   "cell_type": "code",
   "execution_count": 21,
   "metadata": {},
   "outputs": [],
   "source": [
    "from rapidfuzz import process, fuzz\n",
    "import re\n",
    "# --- Utility: Fuzzy match product in text ---\n",
    "def extract_product_from_text(text, catalog_products: dict, threshold=80):\n",
    "    \"\"\"\n",
    "    Uses fuzzy matching to find a product name from the catalog within a given text\n",
    "    and returns the corresponding product ID.\n",
    "\n",
    "    Args:\n",
    "        text (str): The input text to search within.\n",
    "        catalog_products (dict): A dictionary where keys are product IDs and values are product names.\n",
    "                                 Example: {'prod_1': 'HydraCloud Daily Gel-Cream SPF 30'}\n",
    "        threshold (int): The minimum fuzzy matching score (0-100) to consider a match.\n",
    "\n",
    "    Returns:\n",
    "        str: The ID of the matched product, or None if no match is found above the threshold.\n",
    "    \"\"\"\n",
    "    if not text or not catalog_products:\n",
    "        return None\n",
    "    # Create a list of product names (choices) for fuzzy matching\n",
    "    # and a mapping from lowercased name back to original ID\n",
    "    product_names_lower_to_id = {}\n",
    "    choices_for_fuzzy_match = []\n",
    "\n",
    "    for product_id, product_name in catalog_products.items():\n",
    "        # cleaned_product_name = re.sub(r'[^\\w\\s]', '', product_name).lower()\n",
    "        product_names_lower_to_id[product_name.lower()] = product_id\n",
    "        choices_for_fuzzy_match.append(product_name.lower())\n",
    "    try:\n",
    "        match, score, _ = process.extractOne(text.lower(), choices_for_fuzzy_match, scorer=fuzz.partial_token_set_ratio)\n",
    "        if score >= threshold:\n",
    "            return product_names_lower_to_id.get(match)\n",
    "        return None\n",
    "    except Exception as e:\n",
    "         return None\n",
    "\n",
    "\n",
    "# --- Utility: Normalize star ratings ---\n",
    "def normalize_rating(rating):\n",
    "    \"\"\"\n",
    "    Normalizes star ratings from various formats to 'X out of 5'.\n",
    "    \"\"\"\n",
    "    rating_str = str(rating).strip()\n",
    "    if not rating_str:\n",
    "        return \"N/A\"\n",
    "    # Handle star strings like \"★★★☆☆\"\n",
    "    if set(rating_str) <= set(\"★☆\") and len(rating_str) == 5:\n",
    "        stars = rating_str.count(\"★\")\n",
    "        return f\"{stars} out of 5\"\n",
    "    # Handle numeric or \"4/5\" style\n",
    "    try:\n",
    "        rating_num = int(float(rating_str.split(\"/\")[0]))\n",
    "        if 0 <= rating_num <= 5:\n",
    "             return f\"{rating_num} out of 5\"\n",
    "    except Exception:\n",
    "        pass # Fallback to returning original string if parsing fails\n",
    "\n",
    "    return rating_str\n"
   ]
  },
  {
   "cell_type": "code",
   "execution_count": 4,
   "metadata": {},
   "outputs": [],
   "source": [
    "# --- Step 1: Load Catalog for Product Linking ---\n",
    "def load_catalog_products(path):\n",
    "    \"\"\"\n",
    "    Loads the skincare catalog Excel file and returns a set of product names (lowercase) for linking.\n",
    "    \"\"\"\n",
    "    try:\n",
    "        df = pd.read_excel(path)\n",
    "        return df.set_index('product_id')['name'].to_dict()\n",
    "    except FileNotFoundError:\n",
    "        raise\n",
    "    except KeyError:\n",
    "        raise\n",
    "    except Exception as e:\n",
    "        raise\n",
    "catalog_products = load_catalog_products('skincare catalog.xlsx')"
   ]
  },
  {
   "cell_type": "code",
   "execution_count": 1,
   "metadata": {},
   "outputs": [],
   "source": [
    "feedback_xlsx = 'CustomerFeedback.xlsx'"
   ]
  },
  {
   "cell_type": "code",
   "execution_count": 25,
   "metadata": {},
   "outputs": [],
   "source": [
    "df_reviews = pd.read_excel(feedback_xlsx, sheet_name=\"Reviews\").dropna()\n",
    "for index, row in df_reviews.iterrows():\n",
    "    try:\n",
    "        reviewer = str(row.get(\"Reviewer\", \"\")).strip()\n",
    "        product_name = str(row.get(\"Product\", \"\")).strip()\n",
    "        review = str(row.get(\"Review\", \"\")).strip()\n",
    "        rating = normalize_rating(row.get(\"Rating\", \"\"))\n",
    "        # Link to catalog\n",
    "        product_id = extract_product_from_text(product_name, catalog_products)\n",
    "        if not product_id: print(row.to_dict())\n",
    "    except Exception as e:\n",
    "        continue # Skip this row and continue with the next\n"
   ]
  },
  {
   "cell_type": "code",
   "execution_count": 27,
   "metadata": {},
   "outputs": [
    {
     "data": {
      "text/plain": [
       "('velvet night repair cream', 100.0, 16)"
      ]
     },
     "execution_count": 27,
     "metadata": {},
     "output_type": "execute_result"
    }
   ],
   "source": [
    "process.extractOne('“Package arrived leaking—Velvet Night Repair cap was loose and product everywhere.”'.lower(), map(str.lower, catalog_products.values()), scorer=fuzz.partial_token_set_ratio )"
   ]
  },
  {
   "cell_type": "code",
   "execution_count": 24,
   "metadata": {},
   "outputs": [],
   "source": [
    "extract_product_from_text('“Package arrived leaking—Velvet Night Repair cap was loose and product everywhere.”', catalog_products)"
   ]
  },
  {
   "cell_type": "code",
   "execution_count": 23,
   "metadata": {},
   "outputs": [
    {
     "name": "stdout",
     "output_type": "stream",
     "text": [
      "{'Ticket ID': 'CS005', 'Customer Message': '“Package arrived leaking—Velvet Night Repair cap was loose and product everywhere.”', 'Support Response': '“So sorry! We’ve processed a no-cost replacement shipping out today (#RPL-6721) and flagged the lot for QA. No need to return the damaged jar.”'}\n",
      "{'Ticket ID': 'CS009', 'Customer Message': '“Tracking shows my order stuck in ‘label created’ for five days. Vacation starts soon—help!”', 'Support Response': '“Apologies for the delay; high carrier volume caused a backlog. We’ve upgraded you to 2-Day Air at no cost (new tracking # 1Z339…); ETA now Apr 8.”'}\n"
     ]
    }
   ],
   "source": [
    "\n",
    "df_tickets = pd.read_excel(feedback_xlsx, sheet_name=\"Customer Support Tickets\").dropna()\n",
    "for index, row in df_tickets.iterrows():\n",
    "    try:\n",
    "        ticket_id = str(row.get(\"Ticket ID\", \"\")).strip()\n",
    "        customer_msg = str(row.get(\"Customer Message\", \"\")).strip()\n",
    "        support_resp = str(row.get(\"Support Response\", \"\")).strip()\n",
    "        # Try to extract product from customer message or support response\n",
    "        product_id = extract_product_from_text(customer_msg, catalog_products) or extract_product_from_text(support_resp, catalog_products) or \"\"\n",
    "        in_catalog = bool(product_id) # True if a product was extracted\n",
    "        \n",
    "        if not in_catalog: print(row.to_dict())\n",
    "    except Exception as e:\n",
    "        continue # Skip this row and continue with the next\n"
   ]
  },
  {
   "cell_type": "code",
   "execution_count": null,
   "metadata": {},
   "outputs": [],
   "source": []
  }
 ],
 "metadata": {
  "kernelspec": {
   "display_name": "Python 3",
   "language": "python",
   "name": "python3"
  },
  "language_info": {
   "codemirror_mode": {
    "name": "ipython",
    "version": 3
   },
   "file_extension": ".py",
   "mimetype": "text/x-python",
   "name": "python",
   "nbconvert_exporter": "python",
   "pygments_lexer": "ipython3",
   "version": "3.13.3"
  }
 },
 "nbformat": 4,
 "nbformat_minor": 2
}
